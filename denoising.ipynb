{
 "cells": [
  {
   "cell_type": "markdown",
   "metadata": {},
   "source": [
    "Code for **\"Blind restoration of a JPEG-compressed image\"** and **\"Blind image denoising\"** figures. Select `fname` below to switch between the two.\n",
    "\n",
    "- To see overfitting set `num_iter` to a large value."
   ]
  },
  {
   "cell_type": "code",
   "execution_count": 1,
   "metadata": {},
   "outputs": [
    {
     "data": {
      "text/plain": [
       "'\\n*Uncomment if running on colab* \\nSet Runtime -> Change runtime type -> Under Hardware Accelerator select GPU in Google Colab \\n'"
      ]
     },
     "execution_count": 1,
     "metadata": {},
     "output_type": "execute_result"
    }
   ],
   "source": [
    "\"\"\"\n",
    "*Uncomment if running on colab* \n",
    "Set Runtime -> Change runtime type -> Under Hardware Accelerator select GPU in Google Colab \n",
    "\"\"\"\n",
    "# !git clone https://github.com/DmitryUlyanov/deep-image-prior\n",
    "# !mv deep-image-prior/* ./"
   ]
  },
  {
   "cell_type": "markdown",
   "metadata": {},
   "source": [
    "# Import libs"
   ]
  },
  {
   "cell_type": "code",
   "execution_count": 2,
   "metadata": {},
   "outputs": [
    {
     "ename": "ImportError",
     "evalue": "cannot import name 'compare_psnr' from 'skimage.measure' (/home/device-b/mohsen/deep-image-prior/env/lib/python3.10/site-packages/skimage/measure/__init__.py)",
     "output_type": "error",
     "traceback": [
      "\u001b[0;31m---------------------------------------------------------------------------\u001b[0m",
      "\u001b[0;31mImportError\u001b[0m                               Traceback (most recent call last)",
      "\u001b[1;32m/home/device-b/mohsen/deep-image-prior/denoising.ipynb Cell 4'\u001b[0m in \u001b[0;36m<cell line: 14>\u001b[0;34m()\u001b[0m\n\u001b[1;32m     <a href='vscode-notebook-cell://ssh-remote%2Bdevice/home/device-b/mohsen/deep-image-prior/denoising.ipynb#ch0000003vscode-remote?line=10'>11</a>\u001b[0m \u001b[39mimport\u001b[39;00m \u001b[39mtorch\u001b[39;00m\n\u001b[1;32m     <a href='vscode-notebook-cell://ssh-remote%2Bdevice/home/device-b/mohsen/deep-image-prior/denoising.ipynb#ch0000003vscode-remote?line=11'>12</a>\u001b[0m \u001b[39mimport\u001b[39;00m \u001b[39mtorch\u001b[39;00m\u001b[39m.\u001b[39;00m\u001b[39moptim\u001b[39;00m\n\u001b[0;32m---> <a href='vscode-notebook-cell://ssh-remote%2Bdevice/home/device-b/mohsen/deep-image-prior/denoising.ipynb#ch0000003vscode-remote?line=13'>14</a>\u001b[0m \u001b[39mfrom\u001b[39;00m \u001b[39mskimage\u001b[39;00m\u001b[39m.\u001b[39;00m\u001b[39mmeasure\u001b[39;00m \u001b[39mimport\u001b[39;00m compare_psnr\n\u001b[1;32m     <a href='vscode-notebook-cell://ssh-remote%2Bdevice/home/device-b/mohsen/deep-image-prior/denoising.ipynb#ch0000003vscode-remote?line=14'>15</a>\u001b[0m \u001b[39mfrom\u001b[39;00m \u001b[39mutils\u001b[39;00m\u001b[39m.\u001b[39;00m\u001b[39mdenoising_utils\u001b[39;00m \u001b[39mimport\u001b[39;00m \u001b[39m*\u001b[39m\n\u001b[1;32m     <a href='vscode-notebook-cell://ssh-remote%2Bdevice/home/device-b/mohsen/deep-image-prior/denoising.ipynb#ch0000003vscode-remote?line=16'>17</a>\u001b[0m torch\u001b[39m.\u001b[39mbackends\u001b[39m.\u001b[39mcudnn\u001b[39m.\u001b[39menabled \u001b[39m=\u001b[39m \u001b[39mTrue\u001b[39;00m\n",
      "\u001b[0;31mImportError\u001b[0m: cannot import name 'compare_psnr' from 'skimage.measure' (/home/device-b/mohsen/deep-image-prior/env/lib/python3.10/site-packages/skimage/measure/__init__.py)"
     ]
    }
   ],
   "source": [
    "from __future__ import print_function\n",
    "import matplotlib.pyplot as plt\n",
    "%matplotlib inline\n",
    "\n",
    "import os\n",
    "#os.environ['CUDA_VISIBLE_DEVICES'] = '3'\n",
    "\n",
    "import numpy as np\n",
    "from models import *\n",
    "\n",
    "import torch\n",
    "import torch.optim\n",
    "\n",
    "from skimage.measure import compare_psnr\n",
    "from utils.denoising_utils import *\n",
    "\n",
    "torch.backends.cudnn.enabled = True\n",
    "torch.backends.cudnn.benchmark =True\n",
    "dtype = torch.cuda.FloatTensor\n",
    "\n",
    "imsize =-1\n",
    "PLOT = True\n",
    "sigma = 25\n",
    "sigma_ = sigma/255."
   ]
  },
  {
   "cell_type": "code",
   "execution_count": 3,
   "metadata": {},
   "outputs": [],
   "source": [
    "# deJPEG \n",
    "# fname = 'data/denoising/snail.jpg'\n",
    "\n",
    "## denoising\n",
    "fname = 'data/denoising/F16_GT.png'"
   ]
  },
  {
   "cell_type": "markdown",
   "metadata": {},
   "source": [
    "# Load image"
   ]
  },
  {
   "cell_type": "code",
   "execution_count": 4,
   "metadata": {},
   "outputs": [
    {
     "ename": "NameError",
     "evalue": "name 'crop_image' is not defined",
     "output_type": "error",
     "traceback": [
      "\u001b[0;31m---------------------------------------------------------------------------\u001b[0m",
      "\u001b[0;31mNameError\u001b[0m                                 Traceback (most recent call last)",
      "\u001b[1;32m/home/device-b/mohsen/deep-image-prior/denoising.ipynb Cell 7'\u001b[0m in \u001b[0;36m<cell line: 1>\u001b[0;34m()\u001b[0m\n\u001b[1;32m     <a href='vscode-notebook-cell://ssh-remote%2Bdevice/home/device-b/mohsen/deep-image-prior/denoising.ipynb#ch0000006vscode-remote?line=9'>10</a>\u001b[0m         plot_image_grid([img_np], \u001b[39m4\u001b[39m, \u001b[39m5\u001b[39m);\n\u001b[1;32m     <a href='vscode-notebook-cell://ssh-remote%2Bdevice/home/device-b/mohsen/deep-image-prior/denoising.ipynb#ch0000006vscode-remote?line=11'>12</a>\u001b[0m \u001b[39melif\u001b[39;00m fname \u001b[39m==\u001b[39m \u001b[39m'\u001b[39m\u001b[39mdata/denoising/F16_GT.png\u001b[39m\u001b[39m'\u001b[39m:\n\u001b[1;32m     <a href='vscode-notebook-cell://ssh-remote%2Bdevice/home/device-b/mohsen/deep-image-prior/denoising.ipynb#ch0000006vscode-remote?line=12'>13</a>\u001b[0m     \u001b[39m# Add synthetic noise\u001b[39;00m\n\u001b[0;32m---> <a href='vscode-notebook-cell://ssh-remote%2Bdevice/home/device-b/mohsen/deep-image-prior/denoising.ipynb#ch0000006vscode-remote?line=13'>14</a>\u001b[0m     img_pil \u001b[39m=\u001b[39m crop_image(get_image(fname, imsize)[\u001b[39m0\u001b[39m], d\u001b[39m=\u001b[39m\u001b[39m32\u001b[39m)\n\u001b[1;32m     <a href='vscode-notebook-cell://ssh-remote%2Bdevice/home/device-b/mohsen/deep-image-prior/denoising.ipynb#ch0000006vscode-remote?line=14'>15</a>\u001b[0m     img_np \u001b[39m=\u001b[39m pil_to_np(img_pil)\n\u001b[1;32m     <a href='vscode-notebook-cell://ssh-remote%2Bdevice/home/device-b/mohsen/deep-image-prior/denoising.ipynb#ch0000006vscode-remote?line=16'>17</a>\u001b[0m     img_noisy_pil, img_noisy_np \u001b[39m=\u001b[39m get_noisy_image(img_np, sigma_)\n",
      "\u001b[0;31mNameError\u001b[0m: name 'crop_image' is not defined"
     ]
    }
   ],
   "source": [
    "if fname == 'data/denoising/snail.jpg':\n",
    "    img_noisy_pil = crop_image(get_image(fname, imsize)[0], d=32)\n",
    "    img_noisy_np = pil_to_np(img_noisy_pil)\n",
    "    \n",
    "    # As we don't have ground truth\n",
    "    img_pil = img_noisy_pil\n",
    "    img_np = img_noisy_np\n",
    "    \n",
    "    if PLOT:\n",
    "        plot_image_grid([img_np], 4, 5);\n",
    "        \n",
    "elif fname == 'data/denoising/F16_GT.png':\n",
    "    # Add synthetic noise\n",
    "    img_pil = crop_image(get_image(fname, imsize)[0], d=32)\n",
    "    img_np = pil_to_np(img_pil)\n",
    "    \n",
    "    img_noisy_pil, img_noisy_np = get_noisy_image(img_np, sigma_)\n",
    "    \n",
    "    if PLOT:\n",
    "        plot_image_grid([img_np, img_noisy_np], 4, 6);\n",
    "else:\n",
    "    assert False"
   ]
  },
  {
   "cell_type": "markdown",
   "metadata": {},
   "source": [
    "# Setup"
   ]
  },
  {
   "cell_type": "code",
   "execution_count": 5,
   "metadata": {},
   "outputs": [
    {
     "ename": "NameError",
     "evalue": "name 'dtype' is not defined",
     "output_type": "error",
     "traceback": [
      "\u001b[0;31m---------------------------------------------------------------------------\u001b[0m",
      "\u001b[0;31mNameError\u001b[0m                                 Traceback (most recent call last)",
      "\u001b[1;32m/home/device-b/mohsen/deep-image-prior/denoising.ipynb Cell 9'\u001b[0m in \u001b[0;36m<cell line: 12>\u001b[0;34m()\u001b[0m\n\u001b[1;32m     <a href='vscode-notebook-cell://ssh-remote%2Bdevice/home/device-b/mohsen/deep-image-prior/denoising.ipynb#ch0000008vscode-remote?line=28'>29</a>\u001b[0m     input_depth \u001b[39m=\u001b[39m \u001b[39m32\u001b[39m \n\u001b[1;32m     <a href='vscode-notebook-cell://ssh-remote%2Bdevice/home/device-b/mohsen/deep-image-prior/denoising.ipynb#ch0000008vscode-remote?line=29'>30</a>\u001b[0m     figsize \u001b[39m=\u001b[39m \u001b[39m4\u001b[39m \n\u001b[1;32m     <a href='vscode-notebook-cell://ssh-remote%2Bdevice/home/device-b/mohsen/deep-image-prior/denoising.ipynb#ch0000008vscode-remote?line=32'>33</a>\u001b[0m     net \u001b[39m=\u001b[39m get_net(input_depth, \u001b[39m'\u001b[39m\u001b[39mskip\u001b[39m\u001b[39m'\u001b[39m, pad,\n\u001b[1;32m     <a href='vscode-notebook-cell://ssh-remote%2Bdevice/home/device-b/mohsen/deep-image-prior/denoising.ipynb#ch0000008vscode-remote?line=33'>34</a>\u001b[0m                   skip_n33d\u001b[39m=\u001b[39m\u001b[39m128\u001b[39m, \n\u001b[1;32m     <a href='vscode-notebook-cell://ssh-remote%2Bdevice/home/device-b/mohsen/deep-image-prior/denoising.ipynb#ch0000008vscode-remote?line=34'>35</a>\u001b[0m                   skip_n33u\u001b[39m=\u001b[39m\u001b[39m128\u001b[39m, \n\u001b[1;32m     <a href='vscode-notebook-cell://ssh-remote%2Bdevice/home/device-b/mohsen/deep-image-prior/denoising.ipynb#ch0000008vscode-remote?line=35'>36</a>\u001b[0m                   skip_n11\u001b[39m=\u001b[39m\u001b[39m4\u001b[39m, \n\u001b[1;32m     <a href='vscode-notebook-cell://ssh-remote%2Bdevice/home/device-b/mohsen/deep-image-prior/denoising.ipynb#ch0000008vscode-remote?line=36'>37</a>\u001b[0m                   num_scales\u001b[39m=\u001b[39m\u001b[39m5\u001b[39m,\n\u001b[0;32m---> <a href='vscode-notebook-cell://ssh-remote%2Bdevice/home/device-b/mohsen/deep-image-prior/denoising.ipynb#ch0000008vscode-remote?line=37'>38</a>\u001b[0m                   upsample_mode\u001b[39m=\u001b[39m\u001b[39m'\u001b[39m\u001b[39mbilinear\u001b[39m\u001b[39m'\u001b[39m)\u001b[39m.\u001b[39mtype(dtype)\n\u001b[1;32m     <a href='vscode-notebook-cell://ssh-remote%2Bdevice/home/device-b/mohsen/deep-image-prior/denoising.ipynb#ch0000008vscode-remote?line=39'>40</a>\u001b[0m \u001b[39melse\u001b[39;00m:\n\u001b[1;32m     <a href='vscode-notebook-cell://ssh-remote%2Bdevice/home/device-b/mohsen/deep-image-prior/denoising.ipynb#ch0000008vscode-remote?line=40'>41</a>\u001b[0m     \u001b[39massert\u001b[39;00m \u001b[39mFalse\u001b[39;00m\n",
      "\u001b[0;31mNameError\u001b[0m: name 'dtype' is not defined"
     ]
    }
   ],
   "source": [
    "INPUT = 'noise' # 'meshgrid'\n",
    "pad = 'reflection'\n",
    "OPT_OVER = 'net' # 'net,input'\n",
    "\n",
    "reg_noise_std = 1./30. # set to 1./20. for sigma=50\n",
    "LR = 0.01\n",
    "\n",
    "OPTIMIZER='adam' # 'LBFGS'\n",
    "show_every = 100\n",
    "exp_weight=0.99\n",
    "\n",
    "if fname == 'data/denoising/snail.jpg':\n",
    "    num_iter = 2400\n",
    "    input_depth = 3\n",
    "    figsize = 5 \n",
    "    \n",
    "    net = skip(\n",
    "                input_depth, 3, \n",
    "                num_channels_down = [8, 16, 32, 64, 128], \n",
    "                num_channels_up   = [8, 16, 32, 64, 128],\n",
    "                num_channels_skip = [0, 0, 0, 4, 4], \n",
    "                upsample_mode='bilinear',\n",
    "                need_sigmoid=True, need_bias=True, pad=pad, act_fun='LeakyReLU')\n",
    "\n",
    "    net = net.type(dtype)\n",
    "\n",
    "elif fname == 'data/denoising/F16_GT.png':\n",
    "    num_iter = 3000\n",
    "    input_depth = 32 \n",
    "    figsize = 4 \n",
    "    \n",
    "    \n",
    "    net = get_net(input_depth, 'skip', pad,\n",
    "                  skip_n33d=128, \n",
    "                  skip_n33u=128, \n",
    "                  skip_n11=4, \n",
    "                  num_scales=5,\n",
    "                  upsample_mode='bilinear').type(dtype)\n",
    "\n",
    "else:\n",
    "    assert False\n",
    "    \n",
    "net_input = get_noise(input_depth, INPUT, (img_pil.size[1], img_pil.size[0])).type(dtype).detach()\n",
    "\n",
    "# Compute number of parameters\n",
    "s  = sum([np.prod(list(p.size())) for p in net.parameters()]); \n",
    "print ('Number of params: %d' % s)\n",
    "\n",
    "# Loss\n",
    "mse = torch.nn.MSELoss().type(dtype)\n",
    "\n",
    "img_noisy_torch = np_to_torch(img_noisy_np).type(dtype)"
   ]
  },
  {
   "cell_type": "markdown",
   "metadata": {},
   "source": [
    "# Optimize"
   ]
  },
  {
   "cell_type": "code",
   "execution_count": 6,
   "metadata": {
    "scrolled": true
   },
   "outputs": [
    {
     "ename": "NameError",
     "evalue": "name 'net_input' is not defined",
     "output_type": "error",
     "traceback": [
      "\u001b[0;31m---------------------------------------------------------------------------\u001b[0m",
      "\u001b[0;31mNameError\u001b[0m                                 Traceback (most recent call last)",
      "\u001b[1;32m/home/device-b/mohsen/deep-image-prior/denoising.ipynb Cell 11'\u001b[0m in \u001b[0;36m<cell line: 1>\u001b[0;34m()\u001b[0m\n\u001b[0;32m----> <a href='vscode-notebook-cell://ssh-remote%2Bdevice/home/device-b/mohsen/deep-image-prior/denoising.ipynb#ch0000010vscode-remote?line=0'>1</a>\u001b[0m net_input_saved \u001b[39m=\u001b[39m net_input\u001b[39m.\u001b[39mdetach()\u001b[39m.\u001b[39mclone()\n\u001b[1;32m      <a href='vscode-notebook-cell://ssh-remote%2Bdevice/home/device-b/mohsen/deep-image-prior/denoising.ipynb#ch0000010vscode-remote?line=1'>2</a>\u001b[0m noise \u001b[39m=\u001b[39m net_input\u001b[39m.\u001b[39mdetach()\u001b[39m.\u001b[39mclone()\n\u001b[1;32m      <a href='vscode-notebook-cell://ssh-remote%2Bdevice/home/device-b/mohsen/deep-image-prior/denoising.ipynb#ch0000010vscode-remote?line=2'>3</a>\u001b[0m out_avg \u001b[39m=\u001b[39m \u001b[39mNone\u001b[39;00m\n",
      "\u001b[0;31mNameError\u001b[0m: name 'net_input' is not defined"
     ]
    }
   ],
   "source": [
    "net_input_saved = net_input.detach().clone()\n",
    "noise = net_input.detach().clone()\n",
    "out_avg = None\n",
    "last_net = None\n",
    "psrn_noisy_last = 0\n",
    "\n",
    "i = 0\n",
    "def closure():\n",
    "    \n",
    "    global i, out_avg, psrn_noisy_last, last_net, net_input\n",
    "    \n",
    "    if reg_noise_std > 0:\n",
    "        net_input = net_input_saved + (noise.normal_() * reg_noise_std)\n",
    "    \n",
    "    out = net(net_input)\n",
    "    \n",
    "    # Smoothing\n",
    "    if out_avg is None:\n",
    "        out_avg = out.detach()\n",
    "    else:\n",
    "        out_avg = out_avg * exp_weight + out.detach() * (1 - exp_weight)\n",
    "            \n",
    "    total_loss = mse(out, img_noisy_torch)\n",
    "    total_loss.backward()\n",
    "        \n",
    "    \n",
    "    psrn_noisy = compare_psnr(img_noisy_np, out.detach().cpu().numpy()[0]) \n",
    "    psrn_gt    = compare_psnr(img_np, out.detach().cpu().numpy()[0]) \n",
    "    psrn_gt_sm = compare_psnr(img_np, out_avg.detach().cpu().numpy()[0]) \n",
    "    \n",
    "    # Note that we do not have GT for the \"snail\" example\n",
    "    # So 'PSRN_gt', 'PSNR_gt_sm' make no sense\n",
    "    print ('Iteration %05d    Loss %f   PSNR_noisy: %f   PSRN_gt: %f PSNR_gt_sm: %f' % (i, total_loss.item(), psrn_noisy, psrn_gt, psrn_gt_sm), '\\r', end='')\n",
    "    if  PLOT and i % show_every == 0:\n",
    "        out_np = torch_to_np(out)\n",
    "        plot_image_grid([np.clip(out_np, 0, 1), \n",
    "                         np.clip(torch_to_np(out_avg), 0, 1)], factor=figsize, nrow=1)\n",
    "        \n",
    "        \n",
    "    \n",
    "    # Backtracking\n",
    "    if i % show_every:\n",
    "        if psrn_noisy - psrn_noisy_last < -5: \n",
    "            print('Falling back to previous checkpoint.')\n",
    "\n",
    "            for new_param, net_param in zip(last_net, net.parameters()):\n",
    "                net_param.data.copy_(new_param.cuda())\n",
    "\n",
    "            return total_loss*0\n",
    "        else:\n",
    "            last_net = [x.detach().cpu() for x in net.parameters()]\n",
    "            psrn_noisy_last = psrn_noisy\n",
    "            \n",
    "    i += 1\n",
    "\n",
    "    return total_loss\n",
    "\n",
    "p = get_params(OPT_OVER, net, net_input)\n",
    "optimize(OPTIMIZER, p, closure, LR, num_iter)"
   ]
  },
  {
   "cell_type": "code",
   "execution_count": 7,
   "metadata": {},
   "outputs": [
    {
     "ename": "NameError",
     "evalue": "name 'torch_to_np' is not defined",
     "output_type": "error",
     "traceback": [
      "\u001b[0;31m---------------------------------------------------------------------------\u001b[0m",
      "\u001b[0;31mNameError\u001b[0m                                 Traceback (most recent call last)",
      "\u001b[1;32m/home/device-b/mohsen/deep-image-prior/denoising.ipynb Cell 12'\u001b[0m in \u001b[0;36m<cell line: 1>\u001b[0;34m()\u001b[0m\n\u001b[0;32m----> <a href='vscode-notebook-cell://ssh-remote%2Bdevice/home/device-b/mohsen/deep-image-prior/denoising.ipynb#ch0000011vscode-remote?line=0'>1</a>\u001b[0m out_np \u001b[39m=\u001b[39m torch_to_np(net(net_input))\n\u001b[1;32m      <a href='vscode-notebook-cell://ssh-remote%2Bdevice/home/device-b/mohsen/deep-image-prior/denoising.ipynb#ch0000011vscode-remote?line=1'>2</a>\u001b[0m q \u001b[39m=\u001b[39m plot_image_grid([np\u001b[39m.\u001b[39mclip(out_np, \u001b[39m0\u001b[39m, \u001b[39m1\u001b[39m), img_np], factor\u001b[39m=\u001b[39m\u001b[39m13\u001b[39m)\n",
      "\u001b[0;31mNameError\u001b[0m: name 'torch_to_np' is not defined"
     ]
    }
   ],
   "source": [
    "out_np = torch_to_np(net(net_input))\n",
    "q = plot_image_grid([np.clip(out_np, 0, 1), img_np], factor=13);"
   ]
  }
 ],
 "metadata": {
  "kernelspec": {
   "display_name": "venv",
   "language": "python",
   "name": "venv"
  },
  "language_info": {
   "codemirror_mode": {
    "name": "ipython",
    "version": 3
   },
   "file_extension": ".py",
   "mimetype": "text/x-python",
   "name": "python",
   "nbconvert_exporter": "python",
   "pygments_lexer": "ipython3",
   "version": "3.10.4"
  }
 },
 "nbformat": 4,
 "nbformat_minor": 2
}
